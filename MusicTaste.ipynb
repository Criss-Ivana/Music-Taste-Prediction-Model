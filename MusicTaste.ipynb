{
 "cells": [
  {
   "cell_type": "code",
   "execution_count": null,
   "id": "97420529",
   "metadata": {},
   "outputs": [],
   "source": [
    "#SECTION 1: TRAINING MODEL"
   ]
  },
  {
   "cell_type": "code",
   "execution_count": 144,
   "id": "5de0c828-7d85-476c-ab5a-ad9d090e73f9",
   "metadata": {
    "jp-MarkdownHeadingCollapsed": true
   },
   "outputs": [],
   "source": [
    "# import pandas as pd\n",
    "# from sklearn.tree import DecisionTreeClassifier\n",
    "# from sklearn.model_selection import train_test_split\n",
    "# from sklearn.metrics import accuracy_score"
   ]
  },
  {
   "cell_type": "code",
   "execution_count": 145,
   "id": "d7028307-0e7c-441f-be79-12048c828510",
   "metadata": {},
   "outputs": [],
   "source": [
    "# music_data = pd.read_csv('music.csv')\n",
    "# X = music_data.drop(columns=['genre'])\n",
    "# y = music_data['genre']\n",
    "# X_train, X_test, y_train, y_test = train_test_split(X,y,test_size=0.2)\n",
    "\n",
    "\n",
    "# model = DecisionTreeClassifier()\n",
    "# model.fit(X_train, y_train)\n",
    "# predictions = model.predict(X_test)\n",
    "\n",
    "# score = accuracy_score(y_test, predictions)\n",
    "# score"
   ]
  },
  {
   "cell_type": "code",
   "execution_count": null,
   "id": "e5170404",
   "metadata": {},
   "outputs": [],
   "source": [
    "#SECTION 2: LOADING MODEL"
   ]
  },
  {
   "cell_type": "code",
   "execution_count": 146,
   "id": "b9a470c9-c38a-4079-b93d-043331bef685",
   "metadata": {},
   "outputs": [],
   "source": [
    "# import pandas as pd\n",
    "# from sklearn.tree import DecisionTreeClassifier\n",
    "# from sklearn.model_selection import train_test_split\n",
    "# import joblib"
   ]
  },
  {
   "cell_type": "code",
   "execution_count": 147,
   "id": "cc422d67-a08f-4026-845b-97dcb294c867",
   "metadata": {},
   "outputs": [],
   "source": [
    "# music_data = pd.read_csv('music.csv')\n",
    "# X = music_data.drop(columns=['genre'])\n",
    "# y = music_data['genre']\n",
    "\n",
    "\n",
    "# model = DecisionTreeClassifier()\n",
    "# model.fit(X, y)\n",
    "\n",
    "# joblib.dump(model, 'music-recommender.joblib')\n",
    "\n",
    "# model = joblib.load('music-recommender.joblib')\n",
    "# test_data = pd.DataFrame([[21,1]],columns=['age','gender'])\n",
    "# predictions = model.predict(test_data)\n",
    "# predictions"
   ]
  },
  {
   "cell_type": "code",
   "execution_count": null,
   "id": "50a5c9a8",
   "metadata": {},
   "outputs": [],
   "source": [
    "#SECTION 3: REPRESENTING MODEL ON A GRAPH"
   ]
  },
  {
   "cell_type": "code",
   "execution_count": 148,
   "id": "342aa90a-3f22-4c7b-87ae-79b60d2a9262",
   "metadata": {},
   "outputs": [],
   "source": [
    "import pandas as pd\n",
    "from sklearn.tree import DecisionTreeClassifier\n",
    "from sklearn import tree"
   ]
  },
  {
   "cell_type": "code",
   "execution_count": 149,
   "id": "132d1e62-e3f0-4e27-bc0c-9bdbb1064f64",
   "metadata": {},
   "outputs": [],
   "source": [
    "music_data = pd.read_csv('music.csv')\n",
    "X = music_data.drop(columns=['genre'])\n",
    "y = music_data['genre']\n",
    "\n",
    "model = DecisionTreeClassifier()\n",
    "model.fit(X, y)\n",
    "\n",
    "tree.export_graphviz(model, out_file='music-recommender.dot', \n",
    "                     feature_names=['age','gender'], class_names=sorted(y.unique()), \n",
    "                     label='all',rounded=True, filled=True)"
   ]
  }
 ],
 "metadata": {
  "kernelspec": {
   "display_name": "Python 3 (ipykernel)",
   "language": "python",
   "name": "python3"
  },
  "language_info": {
   "codemirror_mode": {
    "name": "ipython",
    "version": 3
   },
   "file_extension": ".py",
   "mimetype": "text/x-python",
   "name": "python",
   "nbconvert_exporter": "python",
   "pygments_lexer": "ipython3",
   "version": "3.13.5"
  }
 },
 "nbformat": 4,
 "nbformat_minor": 5
}
